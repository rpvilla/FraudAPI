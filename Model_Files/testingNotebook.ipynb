{
 "cells": [
  {
   "cell_type": "code",
   "execution_count": 1,
   "id": "aeb8d318",
   "metadata": {},
   "outputs": [],
   "source": [
    "import numpy as np\n",
    "import matplotlib.pyplot as plt"
   ]
  },
  {
   "cell_type": "code",
   "execution_count": 18,
   "id": "7d2d7b18",
   "metadata": {},
   "outputs": [
    {
     "data": {
      "image/png": "[encoded data removed]",
      "text/plain": [
       "<Figure size 432x288 with 1 Axes>"
      ]
     },
     "metadata": {
      "needs_background": "light"
     },
     "output_type": "display_data"
    }
   ],
   "source": [
    "x = np.linspace(0,10)\n",
    "plt.plot(x,x,'ro')\n",
    "plt.xlabel('x')\n",
    "plt.ylabel('y')\n",
    "plt.legend(['data'])\n",
    "plt.title('My First plot')\n",
    "plt.show()"
   ]
  },
  {
   "cell_type": "code",
   "execution_count": 23,
   "id": "f736780b",
   "metadata": {},
   "outputs": [
    {
     "data": {
      "text/plain": [
       "array([0.        , 0.10204082, 0.20408163, 0.30612245, 0.40816327,\n",
       "       0.51020408, 0.6122449 , 0.71428571, 0.81632653, 0.91836735,\n",
       "       1.02040816, 1.12244898, 1.2244898 , 1.32653061, 1.42857143,\n",
       "       1.53061224, 1.63265306, 1.73469388, 1.83673469, 1.93877551,\n",
       "       2.04081633, 2.14285714, 2.24489796, 2.34693878, 2.44897959,\n",
       "       2.55102041, 2.65306122, 2.75510204, 2.85714286, 2.95918367,\n",
       "       3.06122449, 3.16326531, 3.26530612, 3.36734694, 3.46938776,\n",
       "       3.57142857, 3.67346939, 3.7755102 , 3.87755102, 3.97959184,\n",
       "       4.08163265, 4.18367347, 4.28571429, 4.3877551 , 4.48979592,\n",
       "       4.59183673, 4.69387755, 4.79591837, 4.89795918, 5.        ])"
      ]
     },
     "execution_count": 23,
     "metadata": {},
     "output_type": "execute_result"
    }
   ],
   "source": [
    "y = np.linspace(0,5)\n",
    "y"
   ]
  },
  {
   "cell_type": "code",
   "execution_count": 41,
   "id": "4d51a9ce",
   "metadata": {},
   "outputs": [],
   "source": [
    "import math\n",
    "mu = np.mean(y)\n",
    "std = np.std(y)\n",
    "p = 1/(math.sqrt(2*math.pi)*std) * np.exp(-(y-mu)**2/(2*std**2))"
   ]
  },
  {
   "cell_type": "code",
   "execution_count": 42,
   "id": "5f469a37",
   "metadata": {},
   "outputs": [
    {
     "data": {
      "image/png": "[encoded data removed]",
      "text/plain": [
       "<Figure size 432x288 with 1 Axes>"
      ]
     },
     "metadata": {
      "needs_background": "light"
     },
     "output_type": "display_data"
    }
   ],
   "source": [
    "plt.plot(y,p)\n",
    "plt.show()"
   ]
  },
  {
   "cell_type": "code",
   "execution_count": 43,
   "id": "18b04f1c",
   "metadata": {},
   "outputs": [
    {
     "data": {
      "text/plain": [
       "array([0.06411338, 0.0719448 , 0.08034608, 0.08929858, 0.09877316,\n",
       "       0.10872963, 0.11911636, 0.12987018, 0.14091657, 0.15217007,\n",
       "       0.16353509, 0.17490701, 0.18617357, 0.19721657, 0.20791381,\n",
       "       0.21814126, 0.22777541, 0.23669573, 0.24478712, 0.25194239,\n",
       "       0.25806463, 0.26306936, 0.2668865 , 0.26946199, 0.27075903,\n",
       "       0.27075903, 0.26946199, 0.2668865 , 0.26306936, 0.25806463,\n",
       "       0.25194239, 0.24478712, 0.23669573, 0.22777541, 0.21814126,\n",
       "       0.20791381, 0.19721657, 0.18617357, 0.17490701, 0.16353509,\n",
       "       0.15217007, 0.14091657, 0.12987018, 0.11911636, 0.10872963,\n",
       "       0.09877316, 0.08929858, 0.08034608, 0.0719448 , 0.06411338])"
      ]
     },
     "execution_count": 43,
     "metadata": {},
     "output_type": "execute_result"
    }
   ],
   "source": [
    "p"
   ]
  },
  {
   "cell_type": "code",
   "execution_count": 44,
   "id": "f57734bf",
   "metadata": {},
   "outputs": [
    {
     "data": {
      "text/plain": [
       "array([0.06411338, 0.0719448 , 0.08034608, 0.08929858, 0.09877316,\n",
       "       0.10872963, 0.11911636, 0.12987018, 0.14091657, 0.15217007,\n",
       "       0.16353509, 0.17490701, 0.18617357, 0.19721657, 0.20791381,\n",
       "       0.21814126, 0.22777541, 0.23669573, 0.24478712, 0.25194239,\n",
       "       0.25806463, 0.26306936, 0.2668865 , 0.26946199, 0.27075903,\n",
       "       0.27075903, 0.26946199, 0.2668865 , 0.26306936, 0.25806463,\n",
       "       0.25194239, 0.24478712, 0.23669573, 0.22777541, 0.21814126,\n",
       "       0.20791381, 0.19721657, 0.18617357, 0.17490701, 0.16353509,\n",
       "       0.15217007, 0.14091657, 0.12987018, 0.11911636, 0.10872963,\n",
       "       0.09877316, 0.08929858, 0.08034608, 0.0719448 , 0.06411338])"
      ]
     },
     "execution_count": 44,
     "metadata": {},
     "output_type": "execute_result"
    }
   ],
   "source": [
    "from scipy import stats\n",
    "ps = stats.norm.pdf(y,mu,std)\n",
    "ps"
   ]
  },
  {
   "cell_type": "code",
   "execution_count": 65,
   "id": "73ffb3e9",
   "metadata": {},
   "outputs": [
    {
     "data": {
      "text/plain": [
       "array([0.06411338, 0.0719448 , 0.08034608, 0.08929858, 0.09877316,\n",
       "       0.10872963, 0.11911636, 0.12987018, 0.14091657, 0.15217007,\n",
       "       0.16353509, 0.17490701, 0.18617357, 0.19721657, 0.20791381,\n",
       "       0.21814126, 0.22777541, 0.23669573, 0.24478712, 0.25194239,\n",
       "       0.25806463, 0.26306936, 0.2668865 , 0.26946199, 0.27075903,\n",
       "       0.27075903, 0.26946199, 0.2668865 , 0.26306936, 0.25806463,\n",
       "       0.25194239, 0.24478712, 0.23669573, 0.22777541, 0.21814126,\n",
       "       0.20791381, 0.19721657, 0.18617357, 0.17490701, 0.16353509,\n",
       "       0.15217007, 0.14091657, 0.12987018, 0.11911636, 0.10872963,\n",
       "       0.09877316, 0.08929858, 0.08034608, 0.0719448 , 0.06411338])"
      ]
     },
     "execution_count": 65,
     "metadata": {},
     "output_type": "execute_result"
    }
   ],
   "source": [
    "m,s = stats.norm.fit(y)\n",
    "pfit = stats.norm.pdf(y, m, s)\n",
    "pfit"
   ]
  },
  {
   "cell_type": "code",
   "execution_count": 68,
   "id": "8241ad5d",
   "metadata": {},
   "outputs": [
    {
     "data": {
      "text/plain": [
       "array([[0.        , 1.        ],\n",
       "       [0.10204082, 1.08163265],\n",
       "       [0.20408163, 1.16326531],\n",
       "       [0.30612245, 1.24489796],\n",
       "       [0.40816327, 1.32653061],\n",
       "       [0.51020408, 1.40816327],\n",
       "       [0.6122449 , 1.48979592],\n",
       "       [0.71428571, 1.57142857],\n",
       "       [0.81632653, 1.65306122],\n",
       "       [0.91836735, 1.73469388],\n",
       "       [1.02040816, 1.81632653],\n",
       "       [1.12244898, 1.89795918],\n",
       "       [1.2244898 , 1.97959184],\n",
       "       [1.32653061, 2.06122449],\n",
       "       [1.42857143, 2.14285714],\n",
       "       [1.53061224, 2.2244898 ],\n",
       "       [1.63265306, 2.30612245],\n",
       "       [1.73469388, 2.3877551 ],\n",
       "       [1.83673469, 2.46938776],\n",
       "       [1.93877551, 2.55102041],\n",
       "       [2.04081633, 2.63265306],\n",
       "       [2.14285714, 2.71428571],\n",
       "       [2.24489796, 2.79591837],\n",
       "       [2.34693878, 2.87755102],\n",
       "       [2.44897959, 2.95918367],\n",
       "       [2.55102041, 3.04081633],\n",
       "       [2.65306122, 3.12244898],\n",
       "       [2.75510204, 3.20408163],\n",
       "       [2.85714286, 3.28571429],\n",
       "       [2.95918367, 3.36734694],\n",
       "       [3.06122449, 3.44897959],\n",
       "       [3.16326531, 3.53061224],\n",
       "       [3.26530612, 3.6122449 ],\n",
       "       [3.36734694, 3.69387755],\n",
       "       [3.46938776, 3.7755102 ],\n",
       "       [3.57142857, 3.85714286],\n",
       "       [3.67346939, 3.93877551],\n",
       "       [3.7755102 , 4.02040816],\n",
       "       [3.87755102, 4.10204082],\n",
       "       [3.97959184, 4.18367347],\n",
       "       [4.08163265, 4.26530612],\n",
       "       [4.18367347, 4.34693878],\n",
       "       [4.28571429, 4.42857143],\n",
       "       [4.3877551 , 4.51020408],\n",
       "       [4.48979592, 4.59183673],\n",
       "       [4.59183673, 4.67346939],\n",
       "       [4.69387755, 4.75510204],\n",
       "       [4.79591837, 4.83673469],\n",
       "       [4.89795918, 4.91836735],\n",
       "       [5.        , 5.        ]])"
      ]
     },
     "execution_count": 68,
     "metadata": {},
     "output_type": "execute_result"
    }
   ],
   "source": [
    "z = np.linspace(1,5)\n",
    "X = np.c_[y,z]\n",
    "X"
   ]
  },
  {
   "cell_type": "code",
   "execution_count": 84,
   "id": "7992bb42",
   "metadata": {},
   "outputs": [
    {
     "data": {
      "text/plain": [
       "array([[0.06411338, 0.08014172],\n",
       "       [0.0719448 , 0.089931  ],\n",
       "       [0.08034608, 0.1004326 ],\n",
       "       [0.08929858, 0.11162322],\n",
       "       [0.09877316, 0.12346645],\n",
       "       [0.10872963, 0.13591203],\n",
       "       [0.11911636, 0.14889545],\n",
       "       [0.12987018, 0.16233773],\n",
       "       [0.14091657, 0.17614571],\n",
       "       [0.15217007, 0.19021258],\n",
       "       [0.16353509, 0.20441886],\n",
       "       [0.17490701, 0.21863376],\n",
       "       [0.18617357, 0.23271697],\n",
       "       [0.19721657, 0.24652072],\n",
       "       [0.20791381, 0.25989226],\n",
       "       [0.21814126, 0.27267657],\n",
       "       [0.22777541, 0.28471926],\n",
       "       [0.23669573, 0.29586966],\n",
       "       [0.24478712, 0.30598389],\n",
       "       [0.25194239, 0.31492798],\n",
       "       [0.25806463, 0.32258078],\n",
       "       [0.26306936, 0.3288367 ],\n",
       "       [0.2668865 , 0.33360813],\n",
       "       [0.26946199, 0.33682748],\n",
       "       [0.27075903, 0.33844879],\n",
       "       [0.27075903, 0.33844879],\n",
       "       [0.26946199, 0.33682748],\n",
       "       [0.2668865 , 0.33360813],\n",
       "       [0.26306936, 0.3288367 ],\n",
       "       [0.25806463, 0.32258078],\n",
       "       [0.25194239, 0.31492798],\n",
       "       [0.24478712, 0.30598389],\n",
       "       [0.23669573, 0.29586966],\n",
       "       [0.22777541, 0.28471926],\n",
       "       [0.21814126, 0.27267657],\n",
       "       [0.20791381, 0.25989226],\n",
       "       [0.19721657, 0.24652072],\n",
       "       [0.18617357, 0.23271697],\n",
       "       [0.17490701, 0.21863376],\n",
       "       [0.16353509, 0.20441886],\n",
       "       [0.15217007, 0.19021258],\n",
       "       [0.14091657, 0.17614571],\n",
       "       [0.12987018, 0.16233773],\n",
       "       [0.11911636, 0.14889545],\n",
       "       [0.10872963, 0.13591203],\n",
       "       [0.09877316, 0.12346645],\n",
       "       [0.08929858, 0.11162322],\n",
       "       [0.08034608, 0.1004326 ],\n",
       "       [0.0719448 , 0.089931  ],\n",
       "       [0.06411338, 0.08014172]])"
      ]
     },
     "execution_count": 84,
     "metadata": {},
     "output_type": "execute_result"
    }
   ],
   "source": [
    "mu = np.mean(X,axis=0)\n",
    "std = np.std(X,axis=0)\n",
    "p = 1/(math.sqrt(2*math.pi)*std) * np.exp(-(X-mu)**2/(2*std**2))\n",
    "p"
   ]
  },
  {
   "cell_type": "code",
   "execution_count": 97,
   "id": "7b055d41",
   "metadata": {},
   "outputs": [
    {
     "data": {
      "text/plain": [
       "array([0.00513816, 0.00647007, 0.00806937, 0.00996779, 0.01219517,\n",
       "       0.01477766, 0.01773588, 0.02108283, 0.02482185, 0.02894466,\n",
       "       0.03342966, 0.03824058, 0.04332575, 0.04861797, 0.05403519,\n",
       "       0.05948201, 0.06485205, 0.07003108, 0.07490091, 0.07934371,\n",
       "       0.08324669, 0.08650686, 0.08903551, 0.0907622 , 0.09163807,\n",
       "       0.09163807, 0.0907622 , 0.08903551, 0.08650686, 0.08324669,\n",
       "       0.07934371, 0.07490091, 0.07003108, 0.06485205, 0.05948201,\n",
       "       0.05403519, 0.04861797, 0.04332575, 0.03824058, 0.03342966,\n",
       "       0.02894466, 0.02482185, 0.02108283, 0.01773588, 0.01477766,\n",
       "       0.01219517, 0.00996779, 0.00806937, 0.00647007, 0.00513816])"
      ]
     },
     "execution_count": 97,
     "metadata": {},
     "output_type": "execute_result"
    }
   ],
   "source": [
    "r = np.product(p,axis=1)\n",
    "r"
   ]
  },
  {
   "cell_type": "code",
   "execution_count": 107,
   "id": "a68031e1",
   "metadata": {},
   "outputs": [],
   "source": [
    "import pandas as pd\n",
    "data = pd.read_csv('transactions_train.csv')"
   ]
  },
  {
   "cell_type": "code",
   "execution_count": 110,
   "id": "e5ab5620",
   "metadata": {},
   "outputs": [
    {
     "data": {
      "text/plain": [
       "Index(['step', 'type', 'amount', 'nameOrig', 'oldbalanceOrig',\n",
       "       'newbalanceOrig', 'nameDest', 'oldbalanceDest', 'newbalanceDest',\n",
       "       'isFraud'],\n",
       "      dtype='object')"
      ]
     },
     "execution_count": 110,
     "metadata": {},
     "output_type": "execute_result"
    }
   ],
   "source": [
    "data.columns"
   ]
  },
  {
   "cell_type": "code",
   "execution_count": 115,
   "id": "0ff4af40",
   "metadata": {},
   "outputs": [],
   "source": [
    "data['deltaBalanceOrig'] = data.newbalanceOrig - data.oldbalanceOrig\n",
    "data['deltaBalanceDest'] = data.newbalanceDest - data.oldbalanceDest"
   ]
  },
  {
   "cell_type": "code",
   "execution_count": 116,
   "id": "66a21b0f",
   "metadata": {},
   "outputs": [
    {
     "data": {
      "text/html": [
       "<div>\n",
       "<style scoped>\n",
       "    .dataframe tbody tr th:only-of-type {\n",
       "        vertical-align: middle;\n",
       "    }\n",
       "\n",
       "    .dataframe tbody tr th {\n",
       "        vertical-align: top;\n",
       "    }\n",
       "\n",
       "    .dataframe thead th {\n",
       "        text-align: right;\n",
       "    }\n",
       "</style>\n",
       "<table border=\"1\" class=\"dataframe\">\n",
       "  <thead>\n",
       "    <tr style=\"text-align: right;\">\n",
       "      <th></th>\n",
       "      <th>step</th>\n",
       "      <th>type</th>\n",
       "      <th>amount</th>\n",
       "      <th>nameOrig</th>\n",
       "      <th>oldbalanceOrig</th>\n",
       "      <th>newbalanceOrig</th>\n",
       "      <th>nameDest</th>\n",
       "      <th>oldbalanceDest</th>\n",
       "      <th>newbalanceDest</th>\n",
       "      <th>isFraud</th>\n",
       "      <th>deltaBalanceOrig</th>\n",
       "      <th>deltaBalanceDest</th>\n",
       "    </tr>\n",
       "  </thead>\n",
       "  <tbody>\n",
       "    <tr>\n",
       "      <th>0</th>\n",
       "      <td>1</td>\n",
       "      <td>PAYMENT</td>\n",
       "      <td>9839.64</td>\n",
       "      <td>C1231006815</td>\n",
       "      <td>170136.0</td>\n",
       "      <td>160296.36</td>\n",
       "      <td>M1979787155</td>\n",
       "      <td>0.0</td>\n",
       "      <td>0.0</td>\n",
       "      <td>0</td>\n",
       "      <td>-9839.64</td>\n",
       "      <td>0.0</td>\n",
       "    </tr>\n",
       "    <tr>\n",
       "      <th>1</th>\n",
       "      <td>1</td>\n",
       "      <td>PAYMENT</td>\n",
       "      <td>1864.28</td>\n",
       "      <td>C1666544295</td>\n",
       "      <td>21249.0</td>\n",
       "      <td>19384.72</td>\n",
       "      <td>M2044282225</td>\n",
       "      <td>0.0</td>\n",
       "      <td>0.0</td>\n",
       "      <td>0</td>\n",
       "      <td>-1864.28</td>\n",
       "      <td>0.0</td>\n",
       "    </tr>\n",
       "    <tr>\n",
       "      <th>2</th>\n",
       "      <td>1</td>\n",
       "      <td>TRANSFER</td>\n",
       "      <td>181.00</td>\n",
       "      <td>C1305486145</td>\n",
       "      <td>181.0</td>\n",
       "      <td>0.00</td>\n",
       "      <td>C553264065</td>\n",
       "      <td>0.0</td>\n",
       "      <td>0.0</td>\n",
       "      <td>1</td>\n",
       "      <td>-181.00</td>\n",
       "      <td>0.0</td>\n",
       "    </tr>\n",
       "    <tr>\n",
       "      <th>3</th>\n",
       "      <td>1</td>\n",
       "      <td>CASH_OUT</td>\n",
       "      <td>181.00</td>\n",
       "      <td>C840083671</td>\n",
       "      <td>181.0</td>\n",
       "      <td>0.00</td>\n",
       "      <td>C38997010</td>\n",
       "      <td>21182.0</td>\n",
       "      <td>0.0</td>\n",
       "      <td>1</td>\n",
       "      <td>-181.00</td>\n",
       "      <td>-21182.0</td>\n",
       "    </tr>\n",
       "    <tr>\n",
       "      <th>4</th>\n",
       "      <td>1</td>\n",
       "      <td>PAYMENT</td>\n",
       "      <td>11668.14</td>\n",
       "      <td>C2048537720</td>\n",
       "      <td>41554.0</td>\n",
       "      <td>29885.86</td>\n",
       "      <td>M1230701703</td>\n",
       "      <td>0.0</td>\n",
       "      <td>0.0</td>\n",
       "      <td>0</td>\n",
       "      <td>-11668.14</td>\n",
       "      <td>0.0</td>\n",
       "    </tr>\n",
       "  </tbody>\n",
       "</table>\n",
       "</div>"
      ],
      "text/plain": [
       "   step      type    amount     nameOrig  oldbalanceOrig  newbalanceOrig  \\\n",
       "0     1   PAYMENT   9839.64  C1231006815        170136.0       160296.36   \n",
       "1     1   PAYMENT   1864.28  C1666544295         21249.0        19384.72   \n",
       "2     1  TRANSFER    181.00  C1305486145           181.0            0.00   \n",
       "3     1  CASH_OUT    181.00   C840083671           181.0            0.00   \n",
       "4     1   PAYMENT  11668.14  C2048537720         41554.0        29885.86   \n",
       "\n",
       "      nameDest  oldbalanceDest  newbalanceDest  isFraud  deltaBalanceOrig  \\\n",
       "0  M1979787155             0.0             0.0        0          -9839.64   \n",
       "1  M2044282225             0.0             0.0        0          -1864.28   \n",
       "2   C553264065             0.0             0.0        1           -181.00   \n",
       "3    C38997010         21182.0             0.0        1           -181.00   \n",
       "4  M1230701703             0.0             0.0        0         -11668.14   \n",
       "\n",
       "   deltaBalanceDest  \n",
       "0               0.0  \n",
       "1               0.0  \n",
       "2               0.0  \n",
       "3          -21182.0  \n",
       "4               0.0  "
      ]
     },
     "execution_count": 116,
     "metadata": {},
     "output_type": "execute_result"
    }
   ],
   "source": [
    "data.head()"
   ]
  },
  {
   "cell_type": "code",
   "execution_count": 120,
   "id": "4dc677ff",
   "metadata": {},
   "outputs": [],
   "source": [
    "data['stepCount'] = 1.0"
   ]
  },
  {
   "cell_type": "code",
   "execution_count": 135,
   "id": "86fd300f",
   "metadata": {},
   "outputs": [
    {
     "name": "stderr",
     "output_type": "stream",
     "text": [
      "/tmp/ipykernel_6826/3569137986.py:4: SettingWithCopyWarning: \n",
      "A value is trying to be set on a copy of a slice from a DataFrame\n",
      "\n",
      "See the caveats in the documentation: https://pandas.pydata.org/pandas-docs/stable/user_guide/indexing.html#returning-a-view-versus-a-copy\n",
      "  data.stepCount[k] = data.stepCount[k-1] + 1\n",
      "/tmp/ipykernel_6826/3569137986.py:6: SettingWithCopyWarning: \n",
      "A value is trying to be set on a copy of a slice from a DataFrame\n",
      "\n",
      "See the caveats in the documentation: https://pandas.pydata.org/pandas-docs/stable/user_guide/indexing.html#returning-a-view-versus-a-copy\n",
      "  data.stepCount[k] = 1\n"
     ]
    }
   ],
   "source": [
    "for k in range(1,len(data)):\n",
    "    if data.step[k] == data.step[k-1]:\n",
    "        data.stepCount[k] = data.stepCount[k-1] + 1\n",
    "    else:\n",
    "        data.stepCount[k] = 1"
   ]
  },
  {
   "cell_type": "code",
   "execution_count": 164,
   "id": "67c87414",
   "metadata": {},
   "outputs": [],
   "source": [
    "y = pd.get_dummies(data.type,prefix='type')\n",
    "data = pd.concat([data,y],axis=1)"
   ]
  },
  {
   "cell_type": "code",
   "execution_count": 189,
   "id": "a90c77e0",
   "metadata": {},
   "outputs": [
    {
     "name": "stderr",
     "output_type": "stream",
     "text": [
      "/home/rpvilla/.local/lib/python3.8/site-packages/pandas/core/indexing.py:1732: SettingWithCopyWarning: \n",
      "A value is trying to be set on a copy of a slice from a DataFrame\n",
      "\n",
      "See the caveats in the documentation: https://pandas.pydata.org/pandas-docs/stable/user_guide/indexing.html#returning-a-view-versus-a-copy\n",
      "  self._setitem_single_block(indexer, value, name)\n"
     ]
    }
   ],
   "source": [
    "data['transType'] = math.nan\n",
    "for k in range(0,len(data)):\n",
    "    if data['type'].iloc[k] == 'CASH_IN':\n",
    "        data['transType'].iloc[k] = 1\n",
    "    elif data['type'].iloc[k] == 'CASH_OUT':\n",
    "        data['transType'].iloc[k] = 2\n",
    "    elif data['type'].iloc[k] == 'DEBIT':\n",
    "        data['transType'].iloc[k] = 3\n",
    "    elif data['type'].iloc[k] == 'PAYMENT':\n",
    "        data['transType'].iloc[k] = 4\n",
    "    else:\n",
    "        data['transType'].iloc[k] = 5"
   ]
  },
  {
   "cell_type": "code",
   "execution_count": 248,
   "id": "10412242",
   "metadata": {},
   "outputs": [],
   "source": [
    "features = data.loc[:,['deltaBalanceOrig','deltaBalanceDest','transType']]"
   ]
  },
  {
   "cell_type": "code",
   "execution_count": 249,
   "id": "e286e42b",
   "metadata": {},
   "outputs": [
    {
     "data": {
      "text/html": [
       "<div>\n",
       "<style scoped>\n",
       "    .dataframe tbody tr th:only-of-type {\n",
       "        vertical-align: middle;\n",
       "    }\n",
       "\n",
       "    .dataframe tbody tr th {\n",
       "        vertical-align: top;\n",
       "    }\n",
       "\n",
       "    .dataframe thead th {\n",
       "        text-align: right;\n",
       "    }\n",
       "</style>\n",
       "<table border=\"1\" class=\"dataframe\">\n",
       "  <thead>\n",
       "    <tr style=\"text-align: right;\">\n",
       "      <th></th>\n",
       "      <th>deltaBalanceOrig</th>\n",
       "      <th>deltaBalanceDest</th>\n",
       "      <th>transType</th>\n",
       "    </tr>\n",
       "  </thead>\n",
       "  <tbody>\n",
       "    <tr>\n",
       "      <th>0</th>\n",
       "      <td>-9839.64</td>\n",
       "      <td>0.00</td>\n",
       "      <td>4.0</td>\n",
       "    </tr>\n",
       "    <tr>\n",
       "      <th>1</th>\n",
       "      <td>-1864.28</td>\n",
       "      <td>0.00</td>\n",
       "      <td>4.0</td>\n",
       "    </tr>\n",
       "    <tr>\n",
       "      <th>2</th>\n",
       "      <td>-181.00</td>\n",
       "      <td>0.00</td>\n",
       "      <td>5.0</td>\n",
       "    </tr>\n",
       "    <tr>\n",
       "      <th>3</th>\n",
       "      <td>-181.00</td>\n",
       "      <td>-21182.00</td>\n",
       "      <td>2.0</td>\n",
       "    </tr>\n",
       "    <tr>\n",
       "      <th>4</th>\n",
       "      <td>-11668.14</td>\n",
       "      <td>0.00</td>\n",
       "      <td>4.0</td>\n",
       "    </tr>\n",
       "    <tr>\n",
       "      <th>...</th>\n",
       "      <td>...</td>\n",
       "      <td>...</td>\n",
       "      <td>...</td>\n",
       "    </tr>\n",
       "    <tr>\n",
       "      <th>6351188</th>\n",
       "      <td>-162326.52</td>\n",
       "      <td>0.00</td>\n",
       "      <td>5.0</td>\n",
       "    </tr>\n",
       "    <tr>\n",
       "      <th>6351189</th>\n",
       "      <td>-162326.52</td>\n",
       "      <td>162326.52</td>\n",
       "      <td>2.0</td>\n",
       "    </tr>\n",
       "    <tr>\n",
       "      <th>6351190</th>\n",
       "      <td>-2763398.31</td>\n",
       "      <td>0.00</td>\n",
       "      <td>5.0</td>\n",
       "    </tr>\n",
       "    <tr>\n",
       "      <th>6351191</th>\n",
       "      <td>-2763398.31</td>\n",
       "      <td>2763398.31</td>\n",
       "      <td>2.0</td>\n",
       "    </tr>\n",
       "    <tr>\n",
       "      <th>6351192</th>\n",
       "      <td>-578.21</td>\n",
       "      <td>578.21</td>\n",
       "      <td>3.0</td>\n",
       "    </tr>\n",
       "  </tbody>\n",
       "</table>\n",
       "<p>6351193 rows × 3 columns</p>\n",
       "</div>"
      ],
      "text/plain": [
       "         deltaBalanceOrig  deltaBalanceDest  transType\n",
       "0                -9839.64              0.00        4.0\n",
       "1                -1864.28              0.00        4.0\n",
       "2                 -181.00              0.00        5.0\n",
       "3                 -181.00         -21182.00        2.0\n",
       "4               -11668.14              0.00        4.0\n",
       "...                   ...               ...        ...\n",
       "6351188        -162326.52              0.00        5.0\n",
       "6351189        -162326.52         162326.52        2.0\n",
       "6351190       -2763398.31              0.00        5.0\n",
       "6351191       -2763398.31        2763398.31        2.0\n",
       "6351192           -578.21            578.21        3.0\n",
       "\n",
       "[6351193 rows x 3 columns]"
      ]
     },
     "execution_count": 249,
     "metadata": {},
     "output_type": "execute_result"
    }
   ],
   "source": [
    "features"
   ]
  },
  {
   "cell_type": "code",
   "execution_count": 250,
   "id": "b6a894d1",
   "metadata": {},
   "outputs": [
    {
     "data": {
      "text/plain": [
       "0          0\n",
       "1          0\n",
       "2          1\n",
       "3          1\n",
       "4          0\n",
       "          ..\n",
       "6351188    1\n",
       "6351189    1\n",
       "6351190    1\n",
       "6351191    1\n",
       "6351192    0\n",
       "Name: isFraud, Length: 6351193, dtype: int64"
      ]
     },
     "execution_count": 250,
     "metadata": {},
     "output_type": "execute_result"
    }
   ],
   "source": [
    "resp = data.isFraud\n",
    "resp"
   ]
  },
  {
   "cell_type": "code",
   "execution_count": 251,
   "id": "1e385bc6",
   "metadata": {},
   "outputs": [
    {
     "data": {
      "text/plain": [
       "array([[3.89634582e-01, 3.94308563e-01, 2.53474265e-01],\n",
       "       [3.93756210e-01, 3.94308563e-01, 2.53474265e-01],\n",
       "       [3.94476245e-01, 3.94308563e-01, 9.51557743e-02],\n",
       "       ...,\n",
       "       [9.86652764e-83, 3.94308563e-01, 9.51557743e-02],\n",
       "       [9.86652764e-83, 2.06455217e-03, 3.46862134e-01],\n",
       "       [3.94311098e-01, 3.94351314e-01, 3.90098656e-01]])"
      ]
     },
     "execution_count": 251,
     "metadata": {},
     "output_type": "execute_result"
    }
   ],
   "source": [
    "X = features.to_numpy()\n",
    "mu = np.mean(X,axis=0)\n",
    "std = np.std(X,axis=0)\n",
    "Xstar = (X - mu)/std\n",
    "mu = np.mean(Xstar,axis=0)\n",
    "std = np.std(Xstar,axis=0)\n",
    "#p = 1/(math.sqrt(2*math.pi)*std) * np.exp(-(X-mu)**2/(2*std**2))\n",
    "pstar = 1/(math.sqrt(2*math.pi)*std) * np.exp(-(Xstar-mu)**2/(2*std**2))\n",
    "pstar"
   ]
  },
  {
   "cell_type": "code",
   "execution_count": 252,
   "id": "25ba94d6",
   "metadata": {},
   "outputs": [],
   "source": [
    "#prob_mdl = np.prod(p,axis=1)\n",
    "prob_mdl_star = np.prod(pstar,axis=1)"
   ]
  },
  {
   "cell_type": "code",
   "execution_count": 253,
   "id": "664318c9",
   "metadata": {},
   "outputs": [
    {
     "data": {
      "text/plain": [
       "0.06140265135998156"
      ]
     },
     "execution_count": 253,
     "metadata": {},
     "output_type": "execute_result"
    }
   ],
   "source": [
    "prob_mdl_star.max()"
   ]
  },
  {
   "cell_type": "code",
   "execution_count": 319,
   "id": "0cb45a80",
   "metadata": {},
   "outputs": [
    {
     "data": {
      "text/plain": [
       "array([0, 0, 0, ..., 1, 1, 0])"
      ]
     },
     "execution_count": 319,
     "metadata": {},
     "output_type": "execute_result"
    }
   ],
   "source": [
    "preds = prob_mdl_star < 1e-24\n",
    "preds_num = preds.astype(int)\n",
    "preds_num"
   ]
  },
  {
   "cell_type": "code",
   "execution_count": 320,
   "id": "db8ccfac",
   "metadata": {},
   "outputs": [
    {
     "data": {
      "text/plain": [
       "0.9979625875012773"
      ]
     },
     "execution_count": 320,
     "metadata": {},
     "output_type": "execute_result"
    }
   ],
   "source": [
    "trueVals = resp.to_numpy()\n",
    "acc = np.mean(preds_num==trueVals)\n",
    "acc"
   ]
  },
  {
   "cell_type": "code",
   "execution_count": 321,
   "id": "02a50688",
   "metadata": {},
   "outputs": [
    {
     "data": {
      "text/plain": [
       "0.2374779021803182"
      ]
     },
     "execution_count": 321,
     "metadata": {},
     "output_type": "execute_result"
    }
   ],
   "source": [
    "from sklearn.metrics import f1_score\n",
    "prec = f1_score(trueVals,preds_num)\n",
    "prec"
   ]
  },
  {
   "cell_type": "code",
   "execution_count": null,
   "id": "475b7579",
   "metadata": {},
   "outputs": [],
   "source": []
  }
 ],
 "metadata": {
  "kernelspec": {
   "display_name": "Python 3 (ipykernel)",
   "language": "python",
   "name": "python3"
  },
  "language_info": {
   "codemirror_mode": {
    "name": "ipython",
    "version": 3
   },
   "file_extension": ".py",
   "mimetype": "text/x-python",
   "name": "python",
   "nbconvert_exporter": "python",
   "pygments_lexer": "ipython3",
   "version": "3.8.10"
  }
 },
 "nbformat": 4,
 "nbformat_minor": 5
}
