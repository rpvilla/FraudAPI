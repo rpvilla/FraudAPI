{
 "cells": [
  {
   "cell_type": "code",
   "execution_count": 1,
   "id": "913eab71",
   "metadata": {},
   "outputs": [],
   "source": [
    "import numpy as np\n",
    "import matplotlib.pyplot as plt\n",
    "import math\n",
    "from scipy import stats\n",
    "import pandas as pd\n",
    "from sklearn.ensemble import RandomForestClassifier, AdaBoostClassifier, HistGradientBoostingClassifier\n",
    "from sklearn.metrics import f1_score, precision_score, recall_score, roc_auc_score\n",
    "from sklearn.model_selection import train_test_split\n",
    "from sklearn.preprocessing import StandardScaler, OrdinalEncoder\n",
    "plt.rcParams['figure.figsize'] = [20,10]"
   ]
  },
  {
   "cell_type": "code",
   "execution_count": 2,
   "id": "e1e80674",
   "metadata": {},
   "outputs": [],
   "source": [
    "data = pd.read_csv('transactions_train.csv')\n",
    "responseVar = data.isFraud.to_numpy()\n",
    "responseVar\n",
    "data['deltaBalanceDest'] = -data.newbalanceDest + data.oldbalanceDest\n",
    "data['prevStep'] = data['step'].shift(1)\n",
    "data.loc[0,'prevStep'] = 0"
   ]
  },
  {
   "cell_type": "code",
   "execution_count": 3,
   "id": "f1e8045d",
   "metadata": {},
   "outputs": [
    {
     "data": {
      "image/png": "[encoded data removed]",
      "text/plain": [
       "<Figure size 1440x720 with 6 Axes>"
      ]
     },
     "metadata": {
      "needs_background": "light"
     },
     "output_type": "display_data"
    }
   ],
   "source": [
    "fig,((ax,ax1,ax2),(ax3,ax4,ax5)) = plt.subplots(2,3)\n",
    "fig.subplots_adjust(hspace=0.8)\n",
    "ax.hist(x=data['amount'],bins=1000,label='amount')\n",
    "ax.set_xlim(0,1e6)\n",
    "ax.set_title('Amount')\n",
    "ax1.hist(x=data['oldbalanceOrig'],bins=1000,label='oldbalanceOrig')\n",
    "ax1.set_xlim(0,1e6)\n",
    "ax1.set_title('Old Balance Orig')\n",
    "ax2.hist(x=data['newbalanceOrig'],bins=1000,label='newbalanceOrig')\n",
    "ax2.set_xlim(0,1e6)\n",
    "ax2.set_title('New Balance Orig')\n",
    "ax3.hist(x=data['oldbalanceDest'],bins=1000,label='oldbalanceDest')\n",
    "ax3.set_xlim(0,0.5e7)\n",
    "ax3.set_title('Old Balance Dest')\n",
    "ax4.hist(x=data['newbalanceDest'],bins=1000,label='newbalanceDest')\n",
    "ax4.set_xlim(0,0.5e7)\n",
    "ax4.set_title('New Balance Dest')\n",
    "ax5.hist(x=data['deltaBalanceDest'],bins=1000,label='deltaBalanceDest')\n",
    "ax5.set_xlim(-1e6,1e6)\n",
    "ax5.set_title('Delta Balance Dest')\n",
    "\n",
    "plt.show()"
   ]
  },
  {
   "cell_type": "code",
   "execution_count": 4,
   "id": "d122b050",
   "metadata": {},
   "outputs": [
    {
     "data": {
      "text/html": [
       "<div>\n",
       "<style scoped>\n",
       "    .dataframe tbody tr th:only-of-type {\n",
       "        vertical-align: middle;\n",
       "    }\n",
       "\n",
       "    .dataframe tbody tr th {\n",
       "        vertical-align: top;\n",
       "    }\n",
       "\n",
       "    .dataframe thead th {\n",
       "        text-align: right;\n",
       "    }\n",
       "</style>\n",
       "<table border=\"1\" class=\"dataframe\">\n",
       "  <thead>\n",
       "    <tr style=\"text-align: right;\">\n",
       "      <th></th>\n",
       "      <th>step</th>\n",
       "      <th>type</th>\n",
       "      <th>amount</th>\n",
       "      <th>nameOrig</th>\n",
       "      <th>oldbalanceOrig</th>\n",
       "      <th>newbalanceOrig</th>\n",
       "      <th>nameDest</th>\n",
       "      <th>oldbalanceDest</th>\n",
       "      <th>newbalanceDest</th>\n",
       "      <th>isFraud</th>\n",
       "      <th>deltaBalanceDest</th>\n",
       "      <th>prevStep</th>\n",
       "    </tr>\n",
       "  </thead>\n",
       "  <tbody>\n",
       "    <tr>\n",
       "      <th>0</th>\n",
       "      <td>1</td>\n",
       "      <td>PAYMENT</td>\n",
       "      <td>9839.64</td>\n",
       "      <td>C1231006815</td>\n",
       "      <td>170136.0</td>\n",
       "      <td>160296.36</td>\n",
       "      <td>M1979787155</td>\n",
       "      <td>0.0</td>\n",
       "      <td>0.0</td>\n",
       "      <td>0</td>\n",
       "      <td>0.0</td>\n",
       "      <td>0.0</td>\n",
       "    </tr>\n",
       "    <tr>\n",
       "      <th>1</th>\n",
       "      <td>1</td>\n",
       "      <td>PAYMENT</td>\n",
       "      <td>1864.28</td>\n",
       "      <td>C1666544295</td>\n",
       "      <td>21249.0</td>\n",
       "      <td>19384.72</td>\n",
       "      <td>M2044282225</td>\n",
       "      <td>0.0</td>\n",
       "      <td>0.0</td>\n",
       "      <td>0</td>\n",
       "      <td>0.0</td>\n",
       "      <td>1.0</td>\n",
       "    </tr>\n",
       "    <tr>\n",
       "      <th>2</th>\n",
       "      <td>1</td>\n",
       "      <td>TRANSFER</td>\n",
       "      <td>181.00</td>\n",
       "      <td>C1305486145</td>\n",
       "      <td>181.0</td>\n",
       "      <td>0.00</td>\n",
       "      <td>C553264065</td>\n",
       "      <td>0.0</td>\n",
       "      <td>0.0</td>\n",
       "      <td>1</td>\n",
       "      <td>0.0</td>\n",
       "      <td>1.0</td>\n",
       "    </tr>\n",
       "    <tr>\n",
       "      <th>3</th>\n",
       "      <td>1</td>\n",
       "      <td>CASH_OUT</td>\n",
       "      <td>181.00</td>\n",
       "      <td>C840083671</td>\n",
       "      <td>181.0</td>\n",
       "      <td>0.00</td>\n",
       "      <td>C38997010</td>\n",
       "      <td>21182.0</td>\n",
       "      <td>0.0</td>\n",
       "      <td>1</td>\n",
       "      <td>21182.0</td>\n",
       "      <td>1.0</td>\n",
       "    </tr>\n",
       "    <tr>\n",
       "      <th>4</th>\n",
       "      <td>1</td>\n",
       "      <td>PAYMENT</td>\n",
       "      <td>11668.14</td>\n",
       "      <td>C2048537720</td>\n",
       "      <td>41554.0</td>\n",
       "      <td>29885.86</td>\n",
       "      <td>M1230701703</td>\n",
       "      <td>0.0</td>\n",
       "      <td>0.0</td>\n",
       "      <td>0</td>\n",
       "      <td>0.0</td>\n",
       "      <td>1.0</td>\n",
       "    </tr>\n",
       "  </tbody>\n",
       "</table>\n",
       "</div>"
      ],
      "text/plain": [
       "   step      type    amount     nameOrig  oldbalanceOrig  newbalanceOrig  \\\n",
       "0     1   PAYMENT   9839.64  C1231006815        170136.0       160296.36   \n",
       "1     1   PAYMENT   1864.28  C1666544295         21249.0        19384.72   \n",
       "2     1  TRANSFER    181.00  C1305486145           181.0            0.00   \n",
       "3     1  CASH_OUT    181.00   C840083671           181.0            0.00   \n",
       "4     1   PAYMENT  11668.14  C2048537720         41554.0        29885.86   \n",
       "\n",
       "      nameDest  oldbalanceDest  newbalanceDest  isFraud  deltaBalanceDest  \\\n",
       "0  M1979787155             0.0             0.0        0               0.0   \n",
       "1  M2044282225             0.0             0.0        0               0.0   \n",
       "2   C553264065             0.0             0.0        1               0.0   \n",
       "3    C38997010         21182.0             0.0        1           21182.0   \n",
       "4  M1230701703             0.0             0.0        0               0.0   \n",
       "\n",
       "   prevStep  \n",
       "0       0.0  \n",
       "1       1.0  \n",
       "2       1.0  \n",
       "3       1.0  \n",
       "4       1.0  "
      ]
     },
     "execution_count": 4,
     "metadata": {},
     "output_type": "execute_result"
    }
   ],
   "source": [
    "data.head()"
   ]
  },
  {
   "cell_type": "code",
   "execution_count": 5,
   "id": "a0c02452",
   "metadata": {},
   "outputs": [],
   "source": [
    "features = data.loc[:,['amount','deltaBalanceDest','step','prevStep','type',\n",
    "                       'oldbalanceOrig','newbalanceOrig','newbalanceDest','oldbalanceDest']]"
   ]
  },
  {
   "cell_type": "code",
   "execution_count": 6,
   "id": "f62372fd",
   "metadata": {},
   "outputs": [
    {
     "data": {
      "text/html": [
       "<div>\n",
       "<style scoped>\n",
       "    .dataframe tbody tr th:only-of-type {\n",
       "        vertical-align: middle;\n",
       "    }\n",
       "\n",
       "    .dataframe tbody tr th {\n",
       "        vertical-align: top;\n",
       "    }\n",
       "\n",
       "    .dataframe thead th {\n",
       "        text-align: right;\n",
       "    }\n",
       "</style>\n",
       "<table border=\"1\" class=\"dataframe\">\n",
       "  <thead>\n",
       "    <tr style=\"text-align: right;\">\n",
       "      <th></th>\n",
       "      <th>amount</th>\n",
       "      <th>deltaBalanceDest</th>\n",
       "      <th>step</th>\n",
       "      <th>prevStep</th>\n",
       "      <th>type</th>\n",
       "      <th>oldbalanceOrig</th>\n",
       "      <th>newbalanceOrig</th>\n",
       "      <th>newbalanceDest</th>\n",
       "      <th>oldbalanceDest</th>\n",
       "    </tr>\n",
       "  </thead>\n",
       "  <tbody>\n",
       "    <tr>\n",
       "      <th>0</th>\n",
       "      <td>9839.64</td>\n",
       "      <td>0.00</td>\n",
       "      <td>1</td>\n",
       "      <td>0.0</td>\n",
       "      <td>3.0</td>\n",
       "      <td>170136.00</td>\n",
       "      <td>160296.36</td>\n",
       "      <td>0.00</td>\n",
       "      <td>0.00</td>\n",
       "    </tr>\n",
       "    <tr>\n",
       "      <th>1</th>\n",
       "      <td>1864.28</td>\n",
       "      <td>0.00</td>\n",
       "      <td>1</td>\n",
       "      <td>1.0</td>\n",
       "      <td>3.0</td>\n",
       "      <td>21249.00</td>\n",
       "      <td>19384.72</td>\n",
       "      <td>0.00</td>\n",
       "      <td>0.00</td>\n",
       "    </tr>\n",
       "    <tr>\n",
       "      <th>2</th>\n",
       "      <td>181.00</td>\n",
       "      <td>0.00</td>\n",
       "      <td>1</td>\n",
       "      <td>1.0</td>\n",
       "      <td>4.0</td>\n",
       "      <td>181.00</td>\n",
       "      <td>0.00</td>\n",
       "      <td>0.00</td>\n",
       "      <td>0.00</td>\n",
       "    </tr>\n",
       "    <tr>\n",
       "      <th>3</th>\n",
       "      <td>181.00</td>\n",
       "      <td>21182.00</td>\n",
       "      <td>1</td>\n",
       "      <td>1.0</td>\n",
       "      <td>1.0</td>\n",
       "      <td>181.00</td>\n",
       "      <td>0.00</td>\n",
       "      <td>0.00</td>\n",
       "      <td>21182.00</td>\n",
       "    </tr>\n",
       "    <tr>\n",
       "      <th>4</th>\n",
       "      <td>11668.14</td>\n",
       "      <td>0.00</td>\n",
       "      <td>1</td>\n",
       "      <td>1.0</td>\n",
       "      <td>3.0</td>\n",
       "      <td>41554.00</td>\n",
       "      <td>29885.86</td>\n",
       "      <td>0.00</td>\n",
       "      <td>0.00</td>\n",
       "    </tr>\n",
       "    <tr>\n",
       "      <th>...</th>\n",
       "      <td>...</td>\n",
       "      <td>...</td>\n",
       "      <td>...</td>\n",
       "      <td>...</td>\n",
       "      <td>...</td>\n",
       "      <td>...</td>\n",
       "      <td>...</td>\n",
       "      <td>...</td>\n",
       "      <td>...</td>\n",
       "    </tr>\n",
       "    <tr>\n",
       "      <th>6351188</th>\n",
       "      <td>162326.52</td>\n",
       "      <td>0.00</td>\n",
       "      <td>699</td>\n",
       "      <td>699.0</td>\n",
       "      <td>4.0</td>\n",
       "      <td>162326.52</td>\n",
       "      <td>0.00</td>\n",
       "      <td>0.00</td>\n",
       "      <td>0.00</td>\n",
       "    </tr>\n",
       "    <tr>\n",
       "      <th>6351189</th>\n",
       "      <td>162326.52</td>\n",
       "      <td>-162326.52</td>\n",
       "      <td>699</td>\n",
       "      <td>699.0</td>\n",
       "      <td>1.0</td>\n",
       "      <td>162326.52</td>\n",
       "      <td>0.00</td>\n",
       "      <td>162326.52</td>\n",
       "      <td>0.00</td>\n",
       "    </tr>\n",
       "    <tr>\n",
       "      <th>6351190</th>\n",
       "      <td>2763398.31</td>\n",
       "      <td>0.00</td>\n",
       "      <td>699</td>\n",
       "      <td>699.0</td>\n",
       "      <td>4.0</td>\n",
       "      <td>2763398.31</td>\n",
       "      <td>0.00</td>\n",
       "      <td>0.00</td>\n",
       "      <td>0.00</td>\n",
       "    </tr>\n",
       "    <tr>\n",
       "      <th>6351191</th>\n",
       "      <td>2763398.31</td>\n",
       "      <td>-2763398.31</td>\n",
       "      <td>699</td>\n",
       "      <td>699.0</td>\n",
       "      <td>1.0</td>\n",
       "      <td>2763398.31</td>\n",
       "      <td>0.00</td>\n",
       "      <td>3102913.66</td>\n",
       "      <td>339515.35</td>\n",
       "    </tr>\n",
       "    <tr>\n",
       "      <th>6351192</th>\n",
       "      <td>578.21</td>\n",
       "      <td>-578.21</td>\n",
       "      <td>699</td>\n",
       "      <td>699.0</td>\n",
       "      <td>2.0</td>\n",
       "      <td>10575.00</td>\n",
       "      <td>9996.79</td>\n",
       "      <td>127650.44</td>\n",
       "      <td>127072.23</td>\n",
       "    </tr>\n",
       "  </tbody>\n",
       "</table>\n",
       "<p>6351193 rows × 9 columns</p>\n",
       "</div>"
      ],
      "text/plain": [
       "             amount  deltaBalanceDest  step  prevStep  type  oldbalanceOrig  \\\n",
       "0           9839.64              0.00     1       0.0   3.0       170136.00   \n",
       "1           1864.28              0.00     1       1.0   3.0        21249.00   \n",
       "2            181.00              0.00     1       1.0   4.0          181.00   \n",
       "3            181.00          21182.00     1       1.0   1.0          181.00   \n",
       "4          11668.14              0.00     1       1.0   3.0        41554.00   \n",
       "...             ...               ...   ...       ...   ...             ...   \n",
       "6351188   162326.52              0.00   699     699.0   4.0       162326.52   \n",
       "6351189   162326.52        -162326.52   699     699.0   1.0       162326.52   \n",
       "6351190  2763398.31              0.00   699     699.0   4.0      2763398.31   \n",
       "6351191  2763398.31       -2763398.31   699     699.0   1.0      2763398.31   \n",
       "6351192      578.21           -578.21   699     699.0   2.0        10575.00   \n",
       "\n",
       "         newbalanceOrig  newbalanceDest  oldbalanceDest  \n",
       "0             160296.36            0.00            0.00  \n",
       "1              19384.72            0.00            0.00  \n",
       "2                  0.00            0.00            0.00  \n",
       "3                  0.00            0.00        21182.00  \n",
       "4              29885.86            0.00            0.00  \n",
       "...                 ...             ...             ...  \n",
       "6351188            0.00            0.00            0.00  \n",
       "6351189            0.00       162326.52            0.00  \n",
       "6351190            0.00            0.00            0.00  \n",
       "6351191            0.00      3102913.66       339515.35  \n",
       "6351192         9996.79       127650.44       127072.23  \n",
       "\n",
       "[6351193 rows x 9 columns]"
      ]
     },
     "execution_count": 6,
     "metadata": {},
     "output_type": "execute_result"
    }
   ],
   "source": [
    "#num_scaler = StandardScaler().fit(features.loc[:,['amount','oldbalanceOrig','newbalanceOrig',\n",
    "#                                                  'newbalanceDest','oldbalanceDest','deltaBalanceDest']])\n",
    "#features.loc[:,['amount','oldbalanceOrig','newbalanceOrig',\n",
    "#                'newbalanceDest','oldbalanceDest','deltaBalanceDest']] = num_scaler.transform(\n",
    "#    features.loc[:,['amount','oldbalanceOrig','newbalanceOrig','newbalanceDest','oldbalanceDest','deltaBalanceDest']])    \n",
    "cat_scaler = OrdinalEncoder().fit(features.loc[:,'type'].values.reshape(-1,1))\n",
    "features.loc[:,'type'] = cat_scaler.transform(features.loc[:,'type'].values.reshape(-1,1))\n",
    "features"
   ]
  },
  {
   "cell_type": "code",
   "execution_count": 7,
   "id": "eb3e8b27",
   "metadata": {},
   "outputs": [],
   "source": [
    "seed=42\n",
    "Xtrain,Xtest,ytrain,ytest = train_test_split(features,responseVar,test_size=0.2,stratify=responseVar,random_state=seed)"
   ]
  },
  {
   "cell_type": "code",
   "execution_count": 8,
   "id": "aee425da",
   "metadata": {},
   "outputs": [
    {
     "data": {
      "text/plain": [
       "HistGradientBoostingClassifier(learning_rate=0.01, loss='binary_crossentropy')"
      ]
     },
     "execution_count": 8,
     "metadata": {},
     "output_type": "execute_result"
    }
   ],
   "source": [
    "#mdl = AdaBoostClassifier(n_estimators=300)\n",
    "#mdl = RandomForestClassifier(max_depth=5, n_estimators=100, n_jobs=-1)\n",
    "mdl = HistGradientBoostingClassifier(loss='binary_crossentropy',learning_rate=0.01)\n",
    "mdl.fit(Xtrain,ytrain)"
   ]
  },
  {
   "cell_type": "code",
   "execution_count": 9,
   "id": "fcb0c5c6",
   "metadata": {},
   "outputs": [
    {
     "name": "stdout",
     "output_type": "stream",
     "text": [
      "0.9996543957475719 0.8425959125134457 0.9430176565008026 0.76150356448477 0.8807238007558823\n"
     ]
    }
   ],
   "source": [
    "preds = mdl.predict(Xtest)\n",
    "acc = np.mean(preds == ytest)\n",
    "f1 = f1_score(ytest,preds)\n",
    "prec = precision_score(ytest,preds)\n",
    "recall = recall_score(ytest,preds)\n",
    "AUC = roc_auc_score(ytest,preds)\n",
    "print(acc, f1, prec, recall, AUC)"
   ]
  },
  {
   "cell_type": "code",
   "execution_count": null,
   "id": "3c2e8084",
   "metadata": {},
   "outputs": [],
   "source": [
    "mdl1 = AdaBoostClassifier(n_estimators=300)\n",
    "mdl1.fit(Xtrain,ytrain)\n",
    "preds1 = mdl1.predict(Xtest)\n",
    "acc1 = np.mean(preds1 == ytest)\n",
    "f11 = f1_score(ytest,preds1)\n",
    "prec1 = precision_score(ytest,preds1)\n",
    "recall1 = recall_score(ytest,preds1)\n",
    "AUC1 = roc_auc_score(ytest,preds1)\n",
    "print(acc1, f11, prec1, recall1, AUC1)"
   ]
  },
  {
   "cell_type": "code",
   "execution_count": null,
   "id": "74ff1307",
   "metadata": {},
   "outputs": [],
   "source": [
    "from joblib import dump, load\n",
    "dump(mdl,'HistGradientBoostingModelpt01.joblib')"
   ]
  },
  {
   "cell_type": "code",
   "execution_count": null,
   "id": "8f220853",
   "metadata": {},
   "outputs": [],
   "source": [
    "mdl1.feature_importances_"
   ]
  },
  {
   "cell_type": "code",
   "execution_count": 10,
   "id": "4c9ee7bf",
   "metadata": {},
   "outputs": [
    {
     "data": {
      "image/png": "[encoded data removed]",
      "text/plain": [
       "<Figure size 1440x720 with 2 Axes>"
      ]
     },
     "metadata": {
      "needs_background": "light"
     },
     "output_type": "display_data"
    }
   ],
   "source": [
    "from sklearn.metrics import confusion_matrix, ConfusionMatrixDisplay, roc_curve\n",
    "cm = confusion_matrix(ytest, preds, labels=mdl.classes_)\n",
    "disp = ConfusionMatrixDisplay(confusion_matrix=cm,display_labels=mdl.classes_)\n",
    "disp.plot()\n",
    "plt.show()"
   ]
  },
  {
   "cell_type": "code",
   "execution_count": 11,
   "id": "0c80c0ec",
   "metadata": {},
   "outputs": [
    {
     "data": {
      "image/png": "[encoded data removed]",
      "text/plain": [
       "<Figure size 1440x720 with 1 Axes>"
      ]
     },
     "metadata": {
      "needs_background": "light"
     },
     "output_type": "display_data"
    }
   ],
   "source": [
    "fpr, tpr, thresh = roc_curve(ytest,mdl.decision_function(Xtest))\n",
    "f, ax = plt.subplots(1)\n",
    "ax.plot(fpr,tpr)\n",
    "ax.plot([0,1])\n",
    "plt.show()"
   ]
  },
  {
   "cell_type": "code",
   "execution_count": null,
   "id": "c209e29b",
   "metadata": {},
   "outputs": [],
   "source": []
  }
 ],
 "metadata": {
  "kernelspec": {
   "display_name": "Python 3 (ipykernel)",
   "language": "python",
   "name": "python3"
  },
  "language_info": {
   "codemirror_mode": {
    "name": "ipython",
    "version": 3
   },
   "file_extension": ".py",
   "mimetype": "text/x-python",
   "name": "python",
   "nbconvert_exporter": "python",
   "pygments_lexer": "ipython3",
   "version": "3.8.10"
  }
 },
 "nbformat": 4,
 "nbformat_minor": 5
}
